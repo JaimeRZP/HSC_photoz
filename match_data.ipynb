{
 "cells": [
  {
   "cell_type": "markdown",
   "metadata": {},
   "source": [
    "# Match Zuntz's data"
   ]
  },
  {
   "cell_type": "code",
   "execution_count": 2,
   "metadata": {},
   "outputs": [
    {
     "name": "stderr",
     "output_type": "stream",
     "text": [
      "\u001b[32m\u001b[1m  Activating\u001b[22m\u001b[39m project at `~/PhD/HSC_photoz/julia_env`\n"
     ]
    }
   ],
   "source": [
    "] activate \"julia_env/.\""
   ]
  },
  {
   "cell_type": "code",
   "execution_count": 51,
   "metadata": {},
   "outputs": [],
   "source": [
    "using LimberJack\n",
    "using NPZ\n",
    "using LinearAlgebra"
   ]
  },
  {
   "cell_type": "code",
   "execution_count": 4,
   "metadata": {},
   "outputs": [],
   "source": [
    "# order is [0,0] [0,1]... [1,1], [1,1]...."
   ]
  },
  {
   "cell_type": "code",
   "execution_count": 43,
   "metadata": {},
   "outputs": [],
   "source": [
    "data = [3.16769591e-10, 2.36206970e-10, 1.74755600e-10, 1.27245505e-10,\n",
    "9.06740742e-11, 6.29770225e-11, 4.25085938e-11, 4.51282639e-10,\n",
    "3.36268754e-10, 2.49897315e-10, 1.83626506e-10, 1.32542717e-10,\n",
    "9.34910716e-11, 6.41865126e-11, 5.17120351e-10, 3.85048412e-10,\n",
    "2.86433384e-10, 2.11019351e-10, 1.52906093e-10, 1.08373324e-10,\n",
    "7.48036577e-11, 5.50517418e-10, 4.09789865e-10, 3.04962476e-10,\n",
    "2.24909927e-10, 1.63230902e-10, 1.15918732e-10, 8.01864455e-11,\n",
    "7.91064974e-10, 5.83432489e-10, 4.32819488e-10, 3.20315001e-10,\n",
    "2.34730000e-10, 1.69185708e-10, 1.19250944e-10, 1.01366977e-09,\n",
    "7.42796918e-10, 5.49072848e-10, 4.06325942e-10, 2.98789905e-10,\n",
    "2.16765597e-10, 1.54159324e-10, 1.13033990e-09, 8.26171204e-10,\n",
    "6.09760394e-10, 4.51139379e-10, 3.32120311e-10, 2.41505230e-10,\n",
    "1.72312527e-10, 1.46303644e-09, 1.05814504e-09, 7.74340742e-10,\n",
    "5.70121861e-10, 4.19516609e-10, 3.06252103e-10, 2.20220665e-10,\n",
    "1.73868752e-09, 1.25018742e-09, 9.10227888e-10, 6.67967141e-10,\n",
    "4.91046732e-10, 3.58996438e-10, 2.59094275e-10, 2.18771379e-09,\n",
    "1.55965261e-09, 1.12594807e-09, 8.20788096e-10, 6.01195112e-10,\n",
    "4.39441218e-10, 3.18160905e-10];"
   ]
  },
  {
   "cell_type": "code",
   "execution_count": 49,
   "metadata": {},
   "outputs": [],
   "source": [
    "err = [3.93494912e-11, 3.76590492e-11, 3.61706964e-11, 3.48472424e-11,\n",
    "3.36603957e-11, 3.25881698e-11, 3.16132318e-11, 2.83868995e-11,\n",
    "2.71127616e-11, 2.59964149e-11, 2.50080212e-11, 2.41250373e-11,\n",
    "2.33300661e-11, 2.26094621e-11, 2.90983282e-11, 2.77323562e-11,\n",
    "2.65408526e-11, 2.54900539e-11, 2.45546162e-11, 2.37150928e-11,\n",
    "2.29563043e-11, 2.97753372e-11, 2.83238029e-11, 2.70624574e-11,\n",
    "2.59537447e-11, 2.49696422e-11, 2.40887606e-11, 2.32944795e-11,\n",
    "4.09126358e-11, 3.90066897e-11, 3.73427534e-11, 3.58743458e-11,\n",
    "3.45664587e-11, 3.33921777e-11, 3.23304459e-11, 2.97336973e-11,\n",
    "2.82733543e-11, 2.70062802e-11, 2.58940456e-11, 2.49080042e-11,\n",
    "2.40263331e-11, 2.32320916e-11, 3.04399059e-11, 2.88879016e-11,\n",
    "2.75464052e-11, 2.63727536e-11, 2.53353297e-11, 2.44101620e-11,\n",
    "2.35787285e-11, 4.29756749e-11, 4.07995332e-11, 3.89151684e-11,\n",
    "3.72642372e-11, 3.58033052e-11, 3.44993159e-11, 3.33266303e-11,\n",
    "3.13186276e-11, 2.96402703e-11, 2.81976785e-11, 2.69417669e-11,\n",
    "2.58364492e-11, 2.48545618e-11, 2.39752393e-11, 4.49928343e-11,\n",
    "4.25536693e-11, 4.04560350e-11, 3.86292860e-11, 3.70213730e-11,\n",
    "3.55930413e-11, 3.43140856e-11];"
   ]
  },
  {
   "cell_type": "code",
   "execution_count": 44,
   "metadata": {},
   "outputs": [],
   "source": [
    "nz_HSC__0 = npzread(\"files/nz_HSC__0.npz\")\n",
    "nz_HSC__1 = npzread(\"files/nz_HSC__1.npz\")\n",
    "nz_HSC__2 = npzread(\"files/nz_HSC__2.npz\")\n",
    "nz_HSC__3 = npzread(\"files/nz_HSC__3.npz\");"
   ]
  },
  {
   "cell_type": "code",
   "execution_count": 56,
   "metadata": {},
   "outputs": [],
   "source": [
    "cosmo = Cosmology(;Pk_mode=:Halofit);"
   ]
  },
  {
   "cell_type": "code",
   "execution_count": 57,
   "metadata": {},
   "outputs": [
    {
     "data": {
      "text/plain": [
       "make_data (generic function with 1 method)"
      ]
     },
     "execution_count": 57,
     "metadata": {},
     "output_type": "execute_result"
    }
   ],
   "source": [
    "function make_tracer(cosmo, nz)\n",
    "    return WeakLensingTracer(cosmo, nz[\"z\"], nz[\"dndz\"]);\n",
    "end\n",
    "\n",
    "function make_data(cosmo, nz_0, nz_1, nz_2, nz_3)\n",
    "    ells = [359,  462,  593,  762,  979, 1257, 1615];\n",
    "    tracer_0 = make_tracer(cosmo, nz_0)\n",
    "    tracer_1 = make_tracer(cosmo, nz_1)\n",
    "    tracer_2 = make_tracer(cosmo, nz_2)\n",
    "    tracer_3 = make_tracer(cosmo, nz_3)\n",
    "    cl_00 = angularCℓs(cosmo, tracer_0, tracer_0, ells)\n",
    "    cl_01 = angularCℓs(cosmo, tracer_0, tracer_1, ells)\n",
    "    cl_02 = angularCℓs(cosmo, tracer_0, tracer_2, ells)\n",
    "    cl_03 = angularCℓs(cosmo, tracer_0, tracer_3, ells)\n",
    "    cl_11 = angularCℓs(cosmo, tracer_1, tracer_1, ells)\n",
    "    cl_12 = angularCℓs(cosmo, tracer_1, tracer_2, ells)\n",
    "    cl_13 = angularCℓs(cosmo, tracer_1, tracer_3, ells)\n",
    "    cl_22 = angularCℓs(cosmo, tracer_2, tracer_2, ells)\n",
    "    cl_23 = angularCℓs(cosmo, tracer_2, tracer_3, ells)\n",
    "    cl_33 = angularCℓs(cosmo, tracer_3, tracer_3, ells)\n",
    "    data = [cl_00; cl_01; cl_02; cl_03;\n",
    "            cl_11; cl_12; cl_13;\n",
    "            cl_22; cl_23;\n",
    "            cl_33]\n",
    "    return data\n",
    "end "
   ]
  },
  {
   "cell_type": "code",
   "execution_count": 58,
   "metadata": {},
   "outputs": [
    {
     "name": "stdout",
     "output_type": "stream",
     "text": [
      "[3.2639751797103685e-10, 2.4524773162222503e-10, 1.831757178697794e-10, 1.344245921383293e-10, 9.649470289932902e-11, 6.75133592257579e-11, 4.583639696059835e-11, 4.6319473390438525e-10, 3.479183959855502e-10, 2.6113493063976004e-10, 1.9347625047494855e-10, 1.4074331141301449e-10, 1.0005782180070051e-10, 6.91413699530009e-11, 5.295891884384561e-10, 3.975304150810144e-10, 2.987114067339546e-10, 2.219291260734052e-10, 1.6210105151045288e-10, 1.1582244303314377e-10, 8.048779409029554e-11, 5.635450007349884e-10, 4.2289625088369597e-10, 3.1791969659417945e-10, 2.3647194415499193e-10, 1.7301734172139806e-10, 1.2388095459960737e-10, 8.628904053697958e-11, 8.024386930853256e-10, 5.968081264661888e-10, 4.474731257815997e-10, 3.3414591098709614e-10, 2.4694212930368345e-10, 1.794998867581298e-10, 1.274397788472041e-10, 1.0224352087332016e-9, 7.554466947944404e-10, 5.645171087653249e-10, 4.216659898970058e-10, 3.1281637537028347e-10, 2.2895114458204562e-10, 1.640719766720905e-10, 1.1382220294899391e-9, 8.387861249704263e-10, 6.258987584088154e-10, 4.67499268974361e-10, 3.472843060542954e-10, 2.5482091760428603e-10, 1.83243911838578e-10, 1.4672741334192307e-9, 1.0690968273413907e-9, 7.908482303851548e-10, 5.87869081316547e-10, 4.366008256568429e-10, 3.2171184547343415e-10, 2.3324936061088466e-10, 1.742384909196414e-9, 1.2618271273413623e-9, 9.28493379680592e-10, 6.879229286675326e-10, 5.105164951471957e-10, 3.7683085424495467e-10, 2.743009694399612e-10, 2.1966056168624566e-9, 1.5759620714062975e-9, 1.1488703422464944e-9, 8.45308865271298e-10, 6.250400284457753e-10, 4.6137874178715616e-10, 3.370329466389857e-10]\n"
     ]
    }
   ],
   "source": [
    "theory = make_data(cosmo, nz_HSC__0, nz_HSC__1, nz_HSC__2, nz_HSC__3)\n",
    "println(theory)"
   ]
  },
  {
   "cell_type": "code",
   "execution_count": 59,
   "metadata": {},
   "outputs": [
    {
     "data": {
      "text/plain": [
       "13.526644605090391"
      ]
     },
     "execution_count": 59,
     "metadata": {},
     "output_type": "execute_result"
    }
   ],
   "source": [
    "diff = theory .- data \n",
    "diag_xi2 =  dot(diff, (err.^-2 .* diff))  "
   ]
  },
  {
   "cell_type": "code",
   "execution_count": null,
   "metadata": {},
   "outputs": [],
   "source": [
    "\n",
    "\n",
    "\n"
   ]
  }
 ],
 "metadata": {
  "kernelspec": {
   "display_name": "Julia 1.9.3",
   "language": "julia",
   "name": "julia-1.9"
  },
  "language_info": {
   "file_extension": ".jl",
   "mimetype": "application/julia",
   "name": "julia",
   "version": "1.9.3"
  }
 },
 "nbformat": 4,
 "nbformat_minor": 2
}
