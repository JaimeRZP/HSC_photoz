{
 "cells": [
  {
   "cell_type": "markdown",
   "metadata": {},
   "source": [
    "# Zuntz's files"
   ]
  },
  {
   "cell_type": "code",
   "execution_count": 22,
   "metadata": {},
   "outputs": [],
   "source": [
    "import numpy as np\n",
    "from astropy.table import Table\n",
    "import pickle\n",
    "import matplotlib.pyplot as plt"
   ]
  },
  {
   "cell_type": "code",
   "execution_count": 7,
   "metadata": {},
   "outputs": [],
   "source": [
    "with open(\"files/vae_project_data_v1.pkl\", 'rb') as f:\n",
    "    data = pickle.load(f)"
   ]
  },
  {
   "cell_type": "code",
   "execution_count": 14,
   "metadata": {},
   "outputs": [
    {
     "data": {
      "text/plain": [
       "dict_keys(['nz_mean_0', 'nz_cov_0', 'nz_mean_1', 'nz_cov_1', 'nz_mean_2', 'nz_cov_2', 'nz_mean_3', 'nz_cov_3', 'nz_z', 'data_vector', 'data_covariance', 'scale_cut_ell_min', 'scale_cut_ell_max', 'fixed_cosmo_params', 'varied_cosmo_params', 'window_ell', 'window_weight'])"
      ]
     },
     "execution_count": 14,
     "metadata": {},
     "output_type": "execute_result"
    }
   ],
   "source": [
    "data.keys()"
   ]
  },
  {
   "cell_type": "code",
   "execution_count": 24,
   "metadata": {},
   "outputs": [
    {
     "data": {
      "text/plain": [
       "[<matplotlib.lines.Line2D at 0x7feff6028b50>]"
      ]
     },
     "execution_count": 24,
     "metadata": {},
     "output_type": "execute_result"
    },
    {
     "data": {
      "image/png": "[encoded data removed]",
      "text/plain": [
       "<Figure size 640x480 with 1 Axes>"
      ]
     },
     "metadata": {},
     "output_type": "display_data"
    }
   ],
   "source": [
    "plt.plot(data[\"nz_z\"], data[\"nz_mean_0\"])"
   ]
  },
  {
   "cell_type": "code",
   "execution_count": null,
   "metadata": {},
   "outputs": [],
   "source": [
    "from matplotlib.colors import LogNorm\n",
    "colorss = [\"k\", \"k\", \"k\", \"k\"]\n",
    "figure, axis = plt.subplots(2, 4, figsize=(20,10))\n",
    "figure.subplots_adjust(wspace=0, hspace=0.01)\n",
    "for i in range(0, len(nzs_covs.keys())):\n",
    "    zs, nz = data[\"nz_z\"], data[\"mz_mean_{}\".format(i)]\n",
    "    cov = data[\"nz_cov_{}\".format(i)]\n",
    "    axis[0 , i].errorbar(zs, nz, yerr=np.sqrt(np.diag(cov)), fmt='{}o-'.format(colorss[i]), label=\"$HSC_{}$\".format(i))\n",
    "    axis[0, i].set_ylim(0, 0.2)\n",
    "    axis[0, i].set_title(r\"$p(z)_{}$\".format(i), y=0.9)\n",
    "    axis[0, i].set_xticks([])\n",
    "    if i > 0:\n",
    "        axis[0, i].set_yticks([])\n",
    "for i in range(0, len(nzs_covs.keys())):\n",
    "    cov = data[\"nz_cov_{}\".format(i)]\n",
    "    z = data[\"nz_z\"]\n",
    "    err = np.sqrt(np.diag(cov))\n",
    "    corr = cov / (np.outer(err, err))\n",
    "    im = axis[1, i].imshow(abs(corr), cmap='gray_r', norm=LogNorm(vmin=0.001, vmax=1),\n",
    "                           extent=[min(z), max(z), max(z), min(z)])\n",
    "    if i > 0:\n",
    "        axis[1, i].set_yticks([])\n",
    "    else:\n",
    "        axis[1, i].set_ylabel(r\"$z$\")\n",
    "    axis[1, i].set_xlabel(r\"$z$\")\n",
    "cbar_ax = figure.add_axes([0.905, 0.15, 0.005, 0.3])\n",
    "figure.colorbar(im, cax=cbar_ax)\n",
    "plt.savefig('/mnt/c/Users/Jaime/Desktop/Nz_paper_plots/original_covs.pdf', bbox_inches='tight',  pad_inches=0)"
   ]
  }
 ],
 "metadata": {
  "kernelspec": {
   "display_name": "Python 3",
   "language": "python",
   "name": "python3"
  },
  "language_info": {
   "codemirror_mode": {
    "name": "ipython",
    "version": 3
   },
   "file_extension": ".py",
   "mimetype": "text/x-python",
   "name": "python",
   "nbconvert_exporter": "python",
   "pygments_lexer": "ipython3",
   "version": "3.8.10"
  }
 },
 "nbformat": 4,
 "nbformat_minor": 2
}
